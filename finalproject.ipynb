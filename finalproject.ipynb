{
 "cells": [
  {
   "cell_type": "code",
   "execution_count": 2,
   "metadata": {
    "collapsed": true
   },
   "outputs": [],
   "source": [
    "#Placeholder for title"
   ]
  },
  {
   "cell_type": "code",
   "execution_count": 3,
   "metadata": {
    "collapsed": true
   },
   "outputs": [],
   "source": [
    "#Imports\n",
    "\n",
    "import pandas as pd\n",
    "import numpy as np\n",
    "import matplotlib.pyplot as plt\n",
    "\n",
    "# This magic command plots figures directly in the notebook\n",
    "%matplotlib inline\n",
    "# This sets a higher resolution for figures\n",
    "%config InlineBackend.figure_format = 'retina'\n",
    "\n",
    "#Global values\n",
    "\n",
    "movieLifetimeGross2012 = 0\n",
    "movieLifetimeGross2013 = 348807802\n",
    "movieLifetimeGross2014 = 43577636\n",
    "movieLifetimeGross2015 = 353007020\n",
    "\n",
    "movieOpening2012 = 0\n",
    "movieOpening2013 = 118895413\n",
    "movieOpening2014 = 17844939\n",
    "movieOpening2015 = 147187040\n",
    "\n",
    "\n",
    "#Strings"
   ]
  },
  {
   "cell_type": "code",
   "execution_count": 4,
   "metadata": {
    "collapsed": true
   },
   "outputs": [],
   "source": [
    "#Header for introduction to our topic"
   ]
  },
  {
   "cell_type": "code",
   "execution_count": 5,
   "metadata": {
    "collapsed": true
   },
   "outputs": [],
   "source": [
    "#Overview of our data"
   ]
  },
  {
   "cell_type": "code",
   "execution_count": 6,
   "metadata": {
    "collapsed": false
   },
   "outputs": [
    {
     "data": {
      "text/plain": [
       "Index(['Title', 'Lifetime Gross', 'Opening', 'Date'], dtype='object')"
      ]
     },
     "execution_count": 6,
     "metadata": {},
     "output_type": "execute_result"
    }
   ],
   "source": [
    "#Load the relevant data into dataframes\n",
    "\n",
    "nytraffic = pd.read_csv('NYTrafficCleaned.csv')\n",
    "movies = pd.read_csv('CarActionDataCleaned.csv')\n"
   ]
  },
  {
   "cell_type": "code",
   "execution_count": 18,
   "metadata": {
    "collapsed": false
   },
   "outputs": [],
   "source": [
    "# NY Traffic Code\n",
    "# 1180: Speed not reasonable/prudent\n",
    "# 1182: Unauthorized speed contest(drag race)\n",
    "# 1212: Reckless driving\n",
    "\n",
    "# Uncomment the following if you'd like to utilize these dataframes\n",
    "\n",
    "# Violations by code\n",
    "#violation1180s = nytraffic[nytraffic['Violation Charged Code'].str.count('1180') > 0]\n",
    "#violation1182s = nytraffic[nytraffic['Violation Charged Code'].str.count('1182') > 0]\n",
    "#violation1212s = nytraffic[nytraffic['Violation Charged Code'].str.count('1212') > 0]\n",
    "\n",
    "# Violations by year\n",
    "#violationsin2012 = nytraffic[nytraffic['Violation Year'] == 2012]\n",
    "#violationsin2013 = nytraffic[nytraffic['Violation Year'] == 2013]\n",
    "#violationsin2014 = nytraffic[nytraffic['Violation Year'] == 2014]\n",
    "#violationsin2015 = nytraffic[nytraffic['Violation Year'] == 2015]\n",
    "    \n"
   ]
  }
 ],
 "metadata": {
  "kernelspec": {
   "display_name": "Python 3",
   "language": "python",
   "name": "python3"
  },
  "language_info": {
   "codemirror_mode": {
    "name": "ipython",
    "version": 3
   },
   "file_extension": ".py",
   "mimetype": "text/x-python",
   "name": "python",
   "nbconvert_exporter": "python",
   "pygments_lexer": "ipython3",
   "version": "3.6.0"
  }
 },
 "nbformat": 4,
 "nbformat_minor": 2
}
