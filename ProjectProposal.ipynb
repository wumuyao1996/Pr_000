{
 "cells": [
  {
   "cell_type": "markdown",
   "metadata": {},
   "source": [
    "# COGS 108 - Assignment 4: Project Proposal"
   ]
  },
  {
   "cell_type": "markdown",
   "metadata": {},
   "source": [
    "## Important\n",
    "\n",
    "- Make sure all group member (3-5 people) are listed in the group members section.\n",
    "- ONE, and only one, member of your group should upload this notebook to TritonED. \n",
    "- Each member of the group will receive the same grade on this assignment. \n",
    "- Keep the file name the same: submit the file 'A4_ProjectProposal.ipynb'"
   ]
  },
  {
   "cell_type": "markdown",
   "metadata": {},
   "source": [
    "## Overview"
   ]
  },
  {
   "cell_type": "markdown",
   "metadata": {},
   "source": [
    "Read the project description, and detailed instructions for this assignment, in the 'A4_ProjectOutlineAndProposal' pdf."
   ]
  },
  {
   "cell_type": "markdown",
   "metadata": {},
   "source": [
    "## Group Members: Fill in the Student ID's of each group member here\n",
    "- A09196574 - Andrew \n",
    "- A11735974 - Muyao\n",
    "- A12060217 - Kendrick\n",
    "- A99105487 - Simon"
   ]
  },
  {
   "cell_type": "markdown",
   "metadata": {},
   "source": [
    "### Research Question\n",
    "\n",
    "What is your research question? (1-2 sentences)"
   ]
  },
  {
   "cell_type": "markdown",
   "metadata": {},
   "source": [
    "    Do movies like The Fast and The Furious affect the rate of street racing and general exhibition of speed incidents that occur? "
   ]
  },
  {
   "cell_type": "markdown",
   "metadata": {},
   "source": [
    "### Hypothesis\n",
    "\n",
    "What is your prediction (2-3 sentences)"
   ]
  },
  {
   "cell_type": "markdown",
   "metadata": {},
   "source": [
    "    We predict that the movie does affect the rate of speed related traffic incidents that occur because this is a common stereotype. We think that the amount of incidents will increase every time a new movie related to car racing comes out. "
   ]
  },
  {
   "cell_type": "markdown",
   "metadata": {},
   "source": [
    "### Dataset(s)\n",
    "\n",
    "What data will you use to answer your question? Describe the dataset in terms of number of observations, what kind of features it contains, etc. You must use at least one dataset containing at least approximately 1000 observations (if your data are smaller but you feel they are sufficient, email Prof. Voytek). You are welcome (and in fact recommended) to find multiple datasets! If you do so, describe each one, and briefly explain how you will combine them together. "
   ]
  },
  {
   "cell_type": "markdown",
   "metadata": {},
   "source": [
    "*Fill in your dataset information here*\n",
    "\n",
    "(Copy this information for each dataset)\n",
    "    - Dataset Name: National Motor Vehicle Crash Causation Survey\n",
    "    - Link to the dataset: http://www-nass.nhtsa.dot.gov/nass/nmvccs/SearchForm.aspx\n",
    "    - Number of observations: Approx 1638\n",
    "\n",
    "1-2 sentences describing the dataset. \n",
    "\n",
    "    This dataset contains six columns: #, Case String, Download Case, Vehicle Count, Severity, Case ID.  The important data comes from the case files; we’re looking for accidents whose primary cause is “Traveling too fast for conditions”, the make and model of car, and the date of the accident, possibly including information on any injuries or fatalities.\n",
    "\n",
    "If you plan to use multiple datasets, add 1-2 sentences about how you plan to combine these datasets.\n",
    "\n",
    "    We currently do not foresee a need to include other datasets at this time.  Of course, we will be using movie release dates from IMDB, but this is a very minor detail."
   ]
  },
  {
   "cell_type": "markdown",
   "metadata": {},
   "source": [
    "### Background & Prior Work\n",
    "\n",
    "Why is this question of interest, what background information led you to your hypothesis, and why is this important?\n",
    "\n",
    "Find some relevant prior work, and reference them. Even if you think you have a totally novel question, find the most similar prior work you can, and discuss how it relates to your project. \n",
    "\n",
    "References can be research publications, but they need not be: blogs, github repositories, company websites, etc., are viable references if they are relevant to your project.\n",
    "\n",
    "(2-3 paragraphs, including at least 2 references)"
   ]
  },
  {
   "cell_type": "markdown",
   "metadata": {},
   "source": [
    "*Fill in your background and prior work here* \n",
    "\n",
    "    All too often, the media is quick to name popular movies and social media as the cause of street racing accidents.  We seek to investigate this claim by identifying rates of accidents leading up to and after the release of a movie such as The Fast and the Furious.\n",
    "    The Los Angeles Times asserts that there is a connection between street racing and popular culture, social media in this article.  They also assert that there are “no statistics” about street racing incidents, but I suspect this may be false. This is not “prior work”, but rather an impetus for conducting this study: Investigate the validity of these claims.\n",
    "    Another outlet, Faze, makes the same claim that action car movies spur people to street race based on several specific cases that they cite.  \n",
    "\n",
    "References (include a link):\n",
    "- 1) http://www.latimes.com/local/lanow/la-me-ln-street-racing-popularity-20160229-story.html\n",
    "- 2)http://faze.ca/illegal-street-racing-the-real-world-of-the-fast-the-furious/"
   ]
  },
  {
   "cell_type": "markdown",
   "metadata": {},
   "source": [
    "### Proposed Methods\n",
    "\n",
    "What methods will you use to analyze your data?\n",
    "\n",
    "- How 'clean' is the data? To the extent that it requires cleaning, how will you do so?\n",
    "- How will you analyze the data? Be as specific as you can. Briefly mention any pre-processing steps that are required for your methods (for example, checking data distributions and performing any transformations that may be required). Include a brief outline of how you will apply your chosen method(s). \n",
    "- What do you plan to report? Briefly mention any key visualizations you plan to create, and/or the kind of result you will be able to report that addresses your question (this could be, for example, the outcome of some statistical test(s), prediction error on a model, a model fit parameter, etc.).\n",
    "- Include a list of packages you expect to use for you project. If you plan to use packages we have not used in class, add a very brief description about them (a few words is sufficient). "
   ]
  },
  {
   "cell_type": "markdown",
   "metadata": {},
   "source": [
    "*Fill in your proposed methods information here:*\n",
    "\n",
    "    So far the data is really messy. You’d imagine that the whole data sense gathering of the United States in terms of traffic data should be easy. You know, go on data.gov, type in national traffic incidents. And boom! We would have a nice centralized dataset with a ton of data! Nope! Every state has their own system. Each one of a different format and it would be a pain just getting it all into a single file. So from there we decided hmm, maybe we can tackle this problem by scaling down. How about we just look at a single state! Like california! And from there we found a decent dataset with a lot of points pertaining to all the traffic incidents in california, almost all in json format. Great! But then we thought, hmmm, there might be an alternative way we can find additional data on the whole country! How about instead of looking at just all traffic data, we look entirely at just the crashes! There is a great resource by the NHTSA that tracks all the crash data from around the country. While it won’t give us all incidents of speeding that was caught, we would still be able to infer a lot from just that. And the data is pretty clean too!\n",
    "\n",
    "\n",
    "*Data Cleaning (2-3 sentences)*\n",
    "\n",
    "    We plan to only utilize the following data elements in our analysis, and we plan to strip all datum that are not the following: Vehicle Make/Model, Date of Accident, Primary Cause of Crash.  We have decided not to include information about injuries, as this may result in individuals in our study becoming identifiable.\n",
    "\n",
    "*Data Analysis (1-2 paragraphs)*\n",
    "\n",
    "    As far as preprocessing, most of the data can be scraped from each case file, but some are available as part of the table, namely the date of the incident.  The other datum can be scraped from each case file.  Our algorithm for identifying the cause of the crash is simple: it consists of checking to see if phrases that characterize an accident as being a result of excess speed or reckless behavior.  The make and model can also be stripped from the file.\n",
    "    \n",
    "*What to report (2-3 sentences)*\n",
    "\n",
    "    We will be reporting on the amount of incidents potentially related to excess speed or reckless behavior and comparing it with the time of which movies came out. As there have been several different iterations of these types of movies over the years, we hope to be able to make a prediction model and use that to predict rates of traffic incidents related to excess speed after later movie releases. \n",
    "\n",
    "Packages we plan to use:\n",
    "\n",
    "- Numpy, a powerful python library for working with numbers and matrices.\n",
    "\n",
    "- Pandas, a library that provides great tools for cleaning up the data for analysis.\n",
    "\n",
    "- Matplotlib, a great resource for making all sorts of data visualization tasks given a set of cleaned data\n"
   ]
  },
  {
   "cell_type": "markdown",
   "metadata": {},
   "source": [
    "### Discussion\n",
    "\n",
    "What are the pitfalls and potential confounds of your data and/or methods? For example, how might biases in your data sources or analyses influence your interpretations? What will you do if you methods don't work and/or your hypotheses are wrong?\n",
    "\n",
    "(2-3 paragraphs)"
   ]
  },
  {
   "cell_type": "markdown",
   "metadata": {},
   "source": [
    "\tThe biggest issue would be along the lines of showing that there’s a correlation between the movies and the actual results. There are an infinite number of things out there that can affect the mentality of drivers in the US. To actually show that the Fast and Furious movie actually had some sort of impact on an increase in crashes caused by speeding would be very hard to show. And there will certainly be a bias on our part considering we’re actively looking for something in the data. \n",
    "\tIf our methods don’t work or if our hypotheses are wrong, we think it would be best to still present what we find. There’s lessons to be learned even in failure and who knows, we might end up finding some other awesome traffic trends while we work. Those would be fun to add to our results as well.\n",
    "\n"
   ]
  }
 ],
 "metadata": {
  "kernelspec": {
   "display_name": "Python 3",
   "language": "python",
   "name": "python3"
  },
  "language_info": {
   "codemirror_mode": {
    "name": "ipython",
    "version": 3
   },
   "file_extension": ".py",
   "mimetype": "text/x-python",
   "name": "python",
   "nbconvert_exporter": "python",
   "pygments_lexer": "ipython3",
   "version": "3.6.0"
  }
 },
 "nbformat": 4,
 "nbformat_minor": 2
}
